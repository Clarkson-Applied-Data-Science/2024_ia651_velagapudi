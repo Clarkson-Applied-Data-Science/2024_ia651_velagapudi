{
  "cells": [
    {
      "cell_type": "code",
      "execution_count": null,
      "metadata": {
        "id": "HNZLoEerM5XK"
      },
      "outputs": [],
      "source": [
        "import numpy as np\n",
        "import pandas as pd\n",
        "import seaborn as sns\n",
        "import matplotlib.pyplot as plt\n",
        "from sklearn.ensemble import RandomForestRegressor\n",
        "from sklearn.model_selection import GridSearchCV\n",
        "from sklearn.metrics import mean_squared_error, r2_score, mean_absolute_error\n",
        "from sklearn.model_selection import train_test_split\n",
        "from sklearn.model_selection import cross_val_score, KFold"
      ]
    },
    {
      "cell_type": "code",
      "execution_count": null,
      "metadata": {
        "id": "fVmXfhDtNPtj"
      },
      "outputs": [],
      "source": [
        "#import csv file to pandas dataframe\n",
        "import pandas as pd\n",
        "bike=pd.read_csv('SeoulBikeData.csv',encoding='latin1')"
      ]
    },
    {
      "cell_type": "code",
      "execution_count": null,
      "metadata": {
        "colab": {
          "base_uri": "https://localhost:8080/",
          "height": 347
        },
        "id": "m2AT6ZeeOLcF",
        "outputId": "f6b448f5-a814-4293-ed70-dadbfd40e9fd"
      },
      "outputs": [],
      "source": [
        "bike.head()"
      ]
    },
    {
      "cell_type": "code",
      "execution_count": null,
      "metadata": {
        "colab": {
          "base_uri": "https://localhost:8080/",
          "height": 914
        },
        "id": "MhavuGnjOPer",
        "outputId": "dc4616a6-ba13-419a-edb2-c31a53663e96"
      },
      "outputs": [],
      "source": [
        "X = bike.drop(columns=['Rented Bike Count'])\n",
        "y = bike['Rented Bike Count']\n",
        "\n",
        "X_train, X_test, y_train, y_test = train_test_split(X, y, test_size=0.4, random_state=42)\n",
        "\n",
        "# Combine X_train and y_train to have the complete training dataset\n",
        "train_data = X_train.copy()\n",
        "train_data['Rented Bike Count'] = y_train\n",
        "\n",
        "# Visualize numerical columns in the training set\n",
        "plt.figure(figsize=(20, 15))\n",
        "numerical_columns = train_data.select_dtypes(include=['number']).columns\n",
        "\n",
        "for i, column in enumerate(numerical_columns, 1):\n",
        "    plt.subplot(len(numerical_columns) // 3 + 1, 3, i)\n",
        "    sns.histplot(train_data[column], kde=True)\n",
        "    plt.title(f'Distribution of {column}')\n",
        "    plt.xlabel(column)\n",
        "    plt.ylabel('Frequency')\n",
        "\n",
        "plt.tight_layout()\n",
        "plt.show()\n",
        "\n",
        "\n"
      ]
    },
    {
      "cell_type": "code",
      "execution_count": null,
      "metadata": {
        "colab": {
          "base_uri": "https://localhost:8080/",
          "height": 428
        },
        "id": "ZMzJEtBUQUJP",
        "outputId": "1dd5eb32-e7ff-41f6-c6cc-956d5eaeb318"
      },
      "outputs": [],
      "source": [
        "# Visualize categorical columns in the training set\n",
        "plt.figure(figsize=(20, 10))\n",
        "categorical_columns = train_data.select_dtypes(include=['object']).columns\n",
        "\n",
        "# Define the categorical columns to visualize\n",
        "categorical_columns = [\"Seasons\", \"Holiday\", \"Functioning Day\"]\n",
        "\n",
        "plt.figure(figsize=(15, 5))\n",
        "\n",
        "for i, column in enumerate(categorical_columns, 1):\n",
        "    plt.subplot(1, 3, i)\n",
        "    sns.countplot(y=train_data[column], order=train_data[column].value_counts().index)\n",
        "    plt.title(f'Counts for {column}')\n",
        "    plt.xlabel('Count')\n",
        "    plt.ylabel(column)\n",
        "\n",
        "plt.tight_layout()\n",
        "plt.show()"
      ]
    },
    {
      "cell_type": "code",
      "execution_count": null,
      "metadata": {
        "colab": {
          "base_uri": "https://localhost:8080/",
          "height": 951
        },
        "id": "Y_Wy15iXOP0F",
        "outputId": "64863056-d631-4a89-a667-08e4cf719d43"
      },
      "outputs": [],
      "source": [
        "correlation_matrix = train_data.select_dtypes(include=['number']).corr()\n",
        "\n",
        "plt.figure(figsize=(15, 10))\n",
        "sns.heatmap(correlation_matrix, annot=True, cmap='coolwarm', vmin=-1, vmax=1)\n",
        "plt.title('Correlation Matrix for Numerical Columns')\n",
        "plt.savefig('corr.png')\n",
        "plt.show()"
      ]
    },
    {
      "cell_type": "code",
      "execution_count": null,
      "metadata": {
        "colab": {
          "base_uri": "https://localhost:8080/",
          "height": 805
        },
        "id": "Q19uwKtyQbUV",
        "outputId": "d2ff89a9-8de1-47f3-b3a3-049c3699bfeb"
      },
      "outputs": [],
      "source": [
        "average_bike_count = train_data.groupby(['Holiday', 'Functioning Day', 'Seasons'])['Rented Bike Count'].mean().reset_index()\n",
        "plt.figure(figsize=(14, 8))\n",
        "sns.barplot(data=average_bike_count, x='Seasons', y='Rented Bike Count', hue='Holiday', ci=None, palette='viridis')\n",
        "plt.title('Average Rented Bike Count by Seasons and Holiday')\n",
        "plt.xlabel('Seasons')\n",
        "plt.ylabel('Average Rented Bike Count')\n",
        "plt.legend(title='Holiday')\n",
        "plt.show()"
      ]
    },
    {
      "cell_type": "code",
      "execution_count": null,
      "metadata": {
        "colab": {
          "base_uri": "https://localhost:8080/"
        },
        "id": "x1VnCHtYQg10",
        "outputId": "93ae4cd2-4260-4dab-aedb-1f1e905dc7e8"
      },
      "outputs": [],
      "source": [
        "#average rented bike count by Functioning day or not\n",
        "average_bike_count_functioning = train_data.groupby('Functioning Day').agg({\n",
        "    'Rented Bike Count': ['mean', 'count']\n",
        "}).reset_index()\n",
        "\n",
        "average_bike_count_functioning.columns = ['Functioning Day', 'Average Rented Bike Count', 'Number of Instances']\n",
        "\n",
        "print(average_bike_count_functioning)"
      ]
    },
    {
      "cell_type": "code",
      "execution_count": null,
      "metadata": {
        "colab": {
          "base_uri": "https://localhost:8080/"
        },
        "id": "u_TVBZc7RMYd",
        "outputId": "01846bf0-6fd3-4f1d-da2b-2f7ccb6ee75a"
      },
      "outputs": [],
      "source": [
        "#average rented bike count by Holiday or not\n",
        "average_bike_count_holiday = train_data.groupby('Holiday').agg({\n",
        "    'Rented Bike Count': ['mean', 'count']\n",
        "}).reset_index()\n",
        "\n",
        "average_bike_count_holiday.columns = ['Holiday', 'Average Rented Bike Count', 'Number of Instances']\n",
        "\n",
        "print(average_bike_count_holiday)"
      ]
    },
    {
      "cell_type": "code",
      "execution_count": null,
      "metadata": {
        "colab": {
          "base_uri": "https://localhost:8080/",
          "height": 564
        },
        "id": "P6LfwNThd6-W",
        "outputId": "24706b27-458a-4f5b-fb5f-b236e5d1c2a1"
      },
      "outputs": [],
      "source": [
        "# Calculate the average 'Rented Bike Count' per hour\n",
        "average_hourly_rented_bike_count = train_data.groupby('Hour')['Rented Bike Count'].mean()\n",
        "\n",
        "# Plot the results\n",
        "plt.figure(figsize=(10, 6))\n",
        "plt.plot(average_hourly_rented_bike_count.index, average_hourly_rented_bike_count.values, marker='o')\n",
        "plt.title('Average Hourly Rented Bike Count')\n",
        "plt.xlabel('Hour of the Day')\n",
        "plt.ylabel('Average Rented Bike Count')\n",
        "plt.xticks(range(24))\n",
        "plt.grid(True)\n",
        "plt.show()\n"
      ]
    },
    {
      "cell_type": "code",
      "execution_count": null,
      "metadata": {
        "colab": {
          "base_uri": "https://localhost:8080/"
        },
        "id": "RdxQrGx-aHuJ",
        "outputId": "0cbc2c3f-99b8-4e5a-8a6d-274f2a856db0"
      },
      "outputs": [],
      "source": [
        "train_data['Date'] = pd.to_datetime(train_data['Date'])\n",
        "\n",
        "# Extract 'Year' and 'WeekDay'\n",
        "train_data['Year'] = train_data['Date'].dt.year\n",
        "train_data['WeekDay'] = train_data['Date'].dt.day_name()\n",
        "# Convert 'Date' column to datetime in X_test\n",
        "X_test['Date'] = pd.to_datetime(X_test['Date'], format='%d/%m/%Y')\n",
        "X_test['Year'] = X_test['Date'].dt.year\n",
        "X_test['WeekDay'] = X_test['Date'].dt.day_name()\n",
        "\n",
        "#Drop date\n",
        "train_data=train_data.drop(columns=['Date'])\n",
        "X_test=X_test.drop(columns=['Date'])\n",
        "\n",
        "# Map 'WeekDay' to numerical encoding\n",
        "mapping_dictDay = {'Monday': 1, 'Tuesday': 2, 'Wednesday': 3, 'Thursday': 4, 'Friday': 5, 'Saturday': 6, 'Sunday': 7}\n",
        "train_data['WeekDay'] = train_data['WeekDay'].map(mapping_dictDay)\n",
        "X_test['WeekDay'] = X_test['WeekDay'].map(mapping_dictDay)\n"
      ]
    },
    {
      "cell_type": "code",
      "execution_count": null,
      "metadata": {
        "colab": {
          "base_uri": "https://localhost:8080/"
        },
        "id": "2gdLTHx_Z3YG",
        "outputId": "aae1252c-137e-44e9-f695-332f822670a5"
      },
      "outputs": [],
      "source": [
        "# Group by 'Year' and calculate both average and count of 'Rented Bike Count'\n",
        "average_and_counts_per_year = train_data.groupby('Year')['Rented Bike Count'].agg(['mean', 'count'])\n",
        "\n",
        "print(average_and_counts_per_year)\n"
      ]
    },
    {
      "cell_type": "code",
      "execution_count": null,
      "metadata": {
        "colab": {
          "base_uri": "https://localhost:8080/"
        },
        "id": "4WdBk4F-hYQH",
        "outputId": "21422524-981a-4231-a74a-6adf507bd8a7"
      },
      "outputs": [],
      "source": [
        "# Define a function to compute the mean of the middle 50% values\n",
        "def mean_of_middle_50_percent(group):\n",
        "    # Sort the values\n",
        "    sorted_values = group.sort_values()\n",
        "\n",
        "    # Calculate the 25th and 75th percentiles\n",
        "    lower_bound = sorted_values.quantile(0.25)\n",
        "    upper_bound = sorted_values.quantile(0.75)\n",
        "\n",
        "    # Filter the values to get the middle 50%\n",
        "    middle_50_values = sorted_values[(sorted_values >= lower_bound) & (sorted_values <= upper_bound)]\n",
        "\n",
        "    # Compute the mean of the middle 50% values\n",
        "    return middle_50_values.mean()\n",
        "\n",
        "# Group by 'Year' and apply the function\n",
        "mean_middle_50_per_year = train_data.groupby('Year')['Rented Bike Count'].apply(mean_of_middle_50_percent)\n",
        "\n",
        "# Print the results\n",
        "print(mean_middle_50_per_year)"
      ]
    },
    {
      "cell_type": "code",
      "execution_count": null,
      "metadata": {
        "colab": {
          "base_uri": "https://localhost:8080/"
        },
        "id": "-ZizQ5mZaeYL",
        "outputId": "6e7a84fc-77ad-4d8c-e854-5c9fc881cd44"
      },
      "outputs": [],
      "source": [
        "# Group by 'WeekDay' and calculate both average and count of 'Rented Bike Count'\n",
        "average_and_counts_by_weekday = train_data.groupby('WeekDay')['Rented Bike Count'].agg(['mean', 'count'])\n",
        "\n",
        "print(average_and_counts_by_weekday)\n"
      ]
    },
    {
      "cell_type": "code",
      "execution_count": null,
      "metadata": {
        "id": "yx0PahX6RyUf"
      },
      "outputs": [],
      "source": [
        "# Label Encode 'Holiday' and 'Functioning Day' columns\n",
        "train_data['Holiday'] = train_data['Holiday'].map({'Holiday': 0, 'No Holiday': 1})\n",
        "train_data['Functioning Day'] = train_data['Functioning Day'].map({'Yes': 1, 'No': 0})\n",
        "\n",
        "X_test['Holiday']=X_test['Holiday'].map({'Holiday': 0, 'No Holiday': 1})\n",
        "X_test['Functioning Day'] = X_test['Functioning Day'].map({'Yes': 1, 'No': 0})\n",
        "\n",
        "# Label Encode Seasons Column\n",
        "train_data['Seasons'] = train_data['Seasons'].map({\n",
        "    'Autumn': 0,\n",
        "    'Spring': 1,\n",
        "    'Summer': 2,\n",
        "    'Winter': 3\n",
        "}\n",
        ")\n",
        "X_test['Seasons'] = X_test['Seasons'].map({\n",
        "    'Autumn': 0,\n",
        "    'Spring': 1,\n",
        "    'Summer': 2,\n",
        "    'Winter': 3\n",
        "}\n",
        ")\n",
        "\n",
        "\n",
        "\n"
      ]
    },
    {
      "cell_type": "code",
      "execution_count": null,
      "metadata": {
        "colab": {
          "base_uri": "https://localhost:8080/",
          "height": 261
        },
        "id": "VHqZWUu2Uelx",
        "outputId": "ec8d6b49-977d-470d-be6f-3ae553603cc1"
      },
      "outputs": [],
      "source": [
        "train_data.head()"
      ]
    },
    {
      "cell_type": "code",
      "execution_count": null,
      "metadata": {
        "colab": {
          "base_uri": "https://localhost:8080/"
        },
        "id": "q1DqBZi8W6lc",
        "outputId": "a349bd89-3415-4f7d-cdf4-23377cc70cf8"
      },
      "outputs": [],
      "source": [
        "# Create and train the Random Forest model\n",
        "rf_model = RandomForestRegressor(n_estimators=100,bootstrap=True)\n",
        "rf_model.fit(train_data.drop(columns=['Functioning Day','Rented Bike Count']), train_data['Rented Bike Count'])\n",
        "\n",
        "cv = KFold(n_splits=3, shuffle=True, random_state=42)\n",
        "\n",
        "# Perform cross-validation\n",
        "r2_scores = cross_val_score(rf_model, train_data.drop(columns=['Functioning Day','Rented Bike Count']), train_data['Rented Bike Count'], cv=cv, scoring='r2')\n",
        "\n",
        "# Print the results\n",
        "print(f'Random Forest Cross-Validated R²: {r2_scores.mean()}')"
      ]
    },
    {
      "cell_type": "code",
      "execution_count": null,
      "metadata": {
        "colab": {
          "base_uri": "https://localhost:8080/",
          "height": 604
        },
        "id": "Q8mB4IijgX_j",
        "outputId": "45e90243-b1b2-4b28-ae4e-c2185783f900"
      },
      "outputs": [],
      "source": [
        "# Get feature importance\n",
        "feature_importances = rf_model.feature_importances_\n",
        "features = train_data.drop(columns=['Functioning Day', 'Rented Bike Count']).columns\n",
        "\n",
        "# Sort feature importances in descending order and corresponding features\n",
        "indices = np.argsort(feature_importances)[::-1]\n",
        "sorted_features = features[indices]\n",
        "sorted_importances = feature_importances[indices]\n",
        "\n",
        "# Plot feature importances\n",
        "plt.figure(figsize=(18, 6))\n",
        "plt.title(\"Feature Importances\")\n",
        "plt.bar(range(len(sorted_importances)), sorted_importances, align='center')\n",
        "plt.xticks(range(len(sorted_importances)), sorted_features, rotation=90)\n",
        "plt.xlabel('Features')\n",
        "plt.ylabel('Importance')\n",
        "plt.show()"
      ]
    },
    {
      "cell_type": "code",
      "execution_count": null,
      "metadata": {
        "colab": {
          "base_uri": "https://localhost:8080/"
        },
        "id": "QMLxzhdJgX_j",
        "outputId": "79736518-a0a7-4193-a022-88af7acb3db7"
      },
      "outputs": [],
      "source": [
        "# Create and train the Random Forest model with year dropped\n",
        "rf_model = RandomForestRegressor(n_estimators=100,bootstrap=True)\n",
        "rf_model.fit(train_data.drop(columns=['Functioning Day','Rented Bike Count','Year']), train_data['Rented Bike Count'])\n",
        "\n",
        "cv = KFold(n_splits=3, shuffle=True, random_state=42)\n",
        "\n",
        "# Perform cross-validation\n",
        "r2_scores = cross_val_score(rf_model, train_data.drop(columns=['Functioning Day','Rented Bike Count']), train_data['Rented Bike Count'], cv=cv, scoring='r2')\n",
        "\n",
        "# Print the results\n",
        "print(f'Random Forest Cross-Validated R²: {r2_scores.mean()}')"
      ]
    },
    {
      "cell_type": "code",
      "execution_count": null,
      "metadata": {
        "id": "E7M5jxMTgX_j"
      },
      "outputs": [],
      "source": [
        "train_data=train_data.drop(columns=['Year'])\n",
        "X_test=X_test.drop(columns=['Year'])"
      ]
    },
    {
      "cell_type": "code",
      "execution_count": null,
      "metadata": {
        "colab": {
          "base_uri": "https://localhost:8080/"
        },
        "id": "QVrhhSiVgX_k",
        "outputId": "f01ad573-ca1e-4112-e84e-8a3d08faac9b"
      },
      "outputs": [],
      "source": [
        "# Define the parameter grid for Grid Search\n",
        "param_grid = {\n",
        "    'min_samples_leaf': [1, 2, 4, 6, 8, 10],\n",
        "    'max_depth': [None, 10, 20, 30, 40, 50]\n",
        "}\n",
        "\n",
        "# Initialize the Random Forest model\n",
        "rf_model = RandomForestRegressor(n_estimators=100, bootstrap=True, random_state=42)\n",
        "\n",
        "# Initialize Grid Search with cross-validation\n",
        "grid_search = GridSearchCV(estimator=rf_model, param_grid=param_grid,\n",
        "                           cv=3, n_jobs=-1, verbose=2, scoring='neg_mean_squared_error')\n",
        "\n",
        "# Fit Grid Search to the data\n",
        "grid_search.fit(train_data.drop(columns=['Functioning Day', 'Rented Bike Count']), train_data['Rented Bike Count'])\n",
        "\n",
        "# Get the best parameters from Grid Search\n",
        "best_params = grid_search.best_params_\n",
        "print(f'Best parameters from Grid Search: {best_params}')\n",
        "\n",
        "# Train the Random Forest model with the best parameters\n",
        "rf_model = RandomForestRegressor(n_estimators=100,\n",
        "                                      bootstrap=True,\n",
        "                                      random_state=42,\n",
        "                                      **best_params)\n",
        "\n",
        "rf_model.fit(train_data.drop(columns=['Functioning Day', 'Rented Bike Count']), train_data['Rented Bike Count'])\n",
        "\n",
        "# Make predictions on the test set\n",
        "y_pred_rf = rf_model.predict(X_test.drop(columns=['Functioning Day']))\n",
        "\n",
        "# Modify predictions to be 0 when 'Functioning Day' is 0\n",
        "functioning_day_column = X_test['Functioning Day']\n",
        "y_pred_rf[functioning_day_column == 0] = 0\n",
        "\n",
        "# Calculate evaluation metrics\n",
        "rf_rmse = mean_squared_error(y_test, y_pred_rf, squared=False)\n",
        "print(f'Random Forest RMSE: {rf_rmse}')\n",
        "\n",
        "rf_r2 = r2_score(y_test, y_pred_rf)\n",
        "print(f'Random Forest R²: {rf_r2}')\n",
        "\n",
        "mae = mean_absolute_error(y_test, y_pred_rf)\n",
        "print(f\"Random Forest Mean Absolute Error: {mae:.2f}\")\n"
      ]
    },
    {
      "cell_type": "code",
      "execution_count": null,
      "metadata": {
        "colab": {
          "base_uri": "https://localhost:8080/"
        },
        "id": "lz2r6J0ZCjq5",
        "outputId": "b2927be8-5fb1-4c99-ff4e-290134b4057e"
      },
      "outputs": [],
      "source": [
        "#train data performance\n",
        "\n",
        "y_pred_rf = rf_model.predict(train_data.drop(columns=['Functioning Day','Rented Bike Count']))\n",
        "\n",
        "# Modify predictions to be 0 when 'Functioning Day' is 0\n",
        "functioning_day_column = train_data['Functioning Day']\n",
        "y_pred_rf[functioning_day_column == 0] = 0\n",
        "\n",
        "rf_rmse = mean_squared_error(train_data['Rented Bike Count'], y_pred_rf, squared=False)\n",
        "print(f'Random Forest RMSE: {rf_rmse}')\n",
        "\n",
        "rf_r2 = r2_score(train_data['Rented Bike Count'], y_pred_rf)\n",
        "print(f'Random Forest R²: {rf_r2}')\n",
        "\n",
        "mae = mean_absolute_error(train_data['Rented Bike Count'], y_pred_rf)\n",
        "print(f\"Random Forest Mean Absolute Error: {mae:.2f}\")"
      ]
    },
    {
      "cell_type": "code",
      "execution_count": null,
      "metadata": {
        "colab": {
          "base_uri": "https://localhost:8080/"
        },
        "id": "M8OJsOyWH6IO",
        "outputId": "e744063d-f061-4d29-99e0-3cbf75b3e164"
      },
      "outputs": [],
      "source": [
        "# Print two prediction examples for the test dataset\n",
        "for i in range(2):\n",
        "    print(f\"Test example {i + 1}:\")\n",
        "    print(f\"Input features:\\n{X_test.iloc[i].to_dict()}\")\n",
        "    print(f\"Actual: {y_test.iloc[i]}\")\n",
        "    print(f\"Predicted: {y_pred_rf[i]}\\n\")\n",
        "\n"
      ]
    },
    {
      "cell_type": "code",
      "execution_count": null,
      "metadata": {
        "colab": {
          "base_uri": "https://localhost:8080/"
        },
        "id": "MFD1nKR7PPbi",
        "outputId": "263a8663-fda1-4603-c7c2-6025cd93a18d"
      },
      "outputs": [],
      "source": [
        "# Synthesized data\n",
        "synthesized_data = pd.DataFrame({\n",
        "    'Hour': [10, 14],\n",
        "    'Temperature(°C)': [25, 30],\n",
        "    'Humidity(%)': [40, 50],\n",
        "    'Wind speed (m/s)': [2.0, 3.5],\n",
        "    'Visibility (10m)': [2000, 1500],\n",
        "    'Dew point temperature(°C)': [15, 20],\n",
        "    'Solar Radiation (MJ/m2)': [0.5, 0.1],\n",
        "    'Rainfall(mm)': [0.0, 0.1],\n",
        "    'Snowfall (cm)': [0.0, 0.1],\n",
        "    'Seasons':[0,3],\n",
        "    'Holiday':[1,1],\n",
        "    'Functioning Day': [1, 1],\n",
        "    'WeekDay':[1,7]\n",
        "\n",
        "    # Add other necessary features with appropriate values\n",
        "})\n",
        "\n",
        "# Make predictions on the synthesized data\n",
        "synthesized_predictions = rf_model.predict(synthesized_data.drop(columns=['Functioning Day']))\n",
        "\n",
        "# Modify synthesized predictions to be 0 when 'Functioning Day' is 0\n",
        "synthesized_predictions[synthesized_data['Functioning Day'] == 0] = 0\n",
        "\n",
        "# Print synthesized data predictions\n",
        "for i in range(len(synthesized_data)):\n",
        "    print(f\"Synthesized example {i + 1}:\")\n",
        "    print(f\"Input features:\\n{synthesized_data.iloc[i].to_dict()}\")\n",
        "    print(f\"Predicted: {synthesized_predictions[i]}\\n\")"
      ]
    }
  ],
  "metadata": {
    "accelerator": "TPU",
    "colab": {
      "gpuType": "V28",
      "provenance": []
    },
    "kernelspec": {
      "display_name": "Python 3",
      "name": "python3"
    },
    "language_info": {
      "codemirror_mode": {
        "name": "ipython",
        "version": 3
      },
      "file_extension": ".py",
      "mimetype": "text/x-python",
      "name": "python",
      "nbconvert_exporter": "python",
      "pygments_lexer": "ipython3",
      "version": "3.12.4"
    }
  },
  "nbformat": 4,
  "nbformat_minor": 0
}
