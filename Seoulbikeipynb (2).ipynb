{
  "cells": [
    {
      "cell_type": "code",
      "execution_count": null,
      "metadata": {
        "id": "HNZLoEerM5XK"
      },
      "outputs": [],
      "source": [
        "import numpy as np\n",
        "import pandas as pd\n",
        "import seaborn as sns\n",
        "import matplotlib.pyplot as plt\n",
        "from sklearn.ensemble import RandomForestRegressor\n",
        "from sklearn.model_selection import GridSearchCV\n",
        "from sklearn.metrics import mean_squared_error, r2_score, mean_absolute_error\n",
        "from sklearn.model_selection import train_test_split"
      ]
    },
    {
      "cell_type": "code",
      "execution_count": null,
      "metadata": {
        "id": "fVmXfhDtNPtj"
      },
      "outputs": [],
      "source": [
        "#import csv file to pandas dataframe\n",
        "import pandas as pd\n",
        "bike=pd.read_csv('SeoulBikeData.csv',encoding='latin1')"
      ]
    },
    {
      "cell_type": "code",
      "execution_count": null,
      "metadata": {
        "colab": {
          "base_uri": "https://localhost:8080/",
          "height": 347
        },
        "id": "m2AT6ZeeOLcF",
        "outputId": "cc6ec841-c945-4604-d2db-5ba406f59537"
      },
      "outputs": [],
      "source": [
        "bike.head()"
      ]
    },
    {
      "cell_type": "code",
      "execution_count": null,
      "metadata": {
        "colab": {
          "base_uri": "https://localhost:8080/",
          "height": 518
        },
        "id": "MhavuGnjOPer",
        "outputId": "c367a636-08c1-4a57-c362-0f9590d01ebd"
      },
      "outputs": [],
      "source": [
        "X = bike.drop(columns=['Rented Bike Count'])\n",
        "y = bike['Rented Bike Count']\n",
        "\n",
        "# Split the data into training and testing sets\n",
        "X_train, X_test, y_train, y_test = train_test_split(X, y, test_size=0.2, random_state=42)\n",
        "\n",
        "# Combine X_train and y_train to have the complete training dataset\n",
        "train_data = X_train.copy()\n",
        "train_data['Rented Bike Count'] = y_train\n",
        "\n",
        "# Visualize numerical columns in the training set\n",
        "plt.figure(figsize=(20, 15))\n",
        "numerical_columns = train_data.select_dtypes(include=['number']).columns\n",
        "\n",
        "for i, column in enumerate(numerical_columns, 1):\n",
        "    plt.subplot(len(numerical_columns) // 3 + 1, 3, i)\n",
        "    sns.histplot(train_data[column], kde=True)\n",
        "    plt.title(f'Distribution of {column}')\n",
        "    plt.xlabel(column)\n",
        "    plt.ylabel('Frequency')\n",
        "\n",
        "plt.tight_layout()\n",
        "plt.show()\n",
        "\n",
        "\n"
      ]
    },
    {
      "cell_type": "code",
      "execution_count": null,
      "metadata": {
        "colab": {
          "base_uri": "https://localhost:8080/",
          "height": 255
        },
        "id": "ZMzJEtBUQUJP",
        "outputId": "b65cb67a-ac4b-4535-9f32-39ef0c94c241"
      },
      "outputs": [],
      "source": [
        "# Visualize categorical columns in the training set\n",
        "plt.figure(figsize=(20, 10))\n",
        "categorical_columns = train_data.select_dtypes(include=['object']).columns\n",
        "\n",
        "# Define the categorical columns to visualize\n",
        "categorical_columns = [\"Seasons\", \"Holiday\", \"Functioning Day\"]\n",
        "\n",
        "plt.figure(figsize=(15, 5))\n",
        "\n",
        "for i, column in enumerate(categorical_columns, 1):\n",
        "    plt.subplot(1, 3, i)\n",
        "    sns.countplot(y=train_data[column], order=train_data[column].value_counts().index)\n",
        "    plt.title(f'Counts for {column}')\n",
        "    plt.xlabel('Count')\n",
        "    plt.ylabel(column)\n",
        "\n",
        "plt.tight_layout()\n",
        "plt.show()"
      ]
    },
    {
      "cell_type": "code",
      "execution_count": null,
      "metadata": {
        "colab": {
          "base_uri": "https://localhost:8080/",
          "height": 539
        },
        "id": "Y_Wy15iXOP0F",
        "outputId": "1721ea78-afa0-4c22-ff9d-87b8b96453f9"
      },
      "outputs": [],
      "source": [
        "correlation_matrix = train_data.select_dtypes(include=['number']).corr()\n",
        "\n",
        "plt.figure(figsize=(15, 10))\n",
        "sns.heatmap(correlation_matrix, annot=True, cmap='coolwarm', vmin=-1, vmax=1)\n",
        "plt.title('Correlation Matrix for Numerical Columns')\n",
        "plt.savefig('corr.png')\n",
        "plt.show()"
      ]
    },
    {
      "cell_type": "code",
      "execution_count": null,
      "metadata": {
        "colab": {
          "base_uri": "https://localhost:8080/",
          "height": 525
        },
        "id": "Q19uwKtyQbUV",
        "outputId": "26042db1-ea21-4aee-dc08-c4ff8c1515df"
      },
      "outputs": [],
      "source": [
        "average_bike_count = train_data.groupby(['Holiday', 'Functioning Day', 'Seasons'])['Rented Bike Count'].mean().reset_index()\n",
        "plt.figure(figsize=(14, 8))\n",
        "sns.barplot(data=average_bike_count, x='Seasons', y='Rented Bike Count', hue='Holiday', ci=None, palette='viridis')\n",
        "plt.title('Average Rented Bike Count by Seasons and Holiday')\n",
        "plt.xlabel('Seasons')\n",
        "plt.ylabel('Average Rented Bike Count')\n",
        "plt.legend(title='Holiday')\n",
        "plt.show()"
      ]
    },
    {
      "cell_type": "code",
      "execution_count": null,
      "metadata": {
        "colab": {
          "base_uri": "https://localhost:8080/"
        },
        "id": "x1VnCHtYQg10",
        "outputId": "76e74a57-4be4-4d1a-e6ba-6a693a9dae76"
      },
      "outputs": [],
      "source": [
        "#average rented bike count by Functioning day or not\n",
        "average_bike_count_functioning = train_data.groupby('Functioning Day').agg({\n",
        "    'Rented Bike Count': ['mean', 'count']\n",
        "}).reset_index()\n",
        "\n",
        "average_bike_count_functioning.columns = ['Functioning Day', 'Average Rented Bike Count', 'Number of Instances']\n",
        "\n",
        "print(average_bike_count_functioning)"
      ]
    },
    {
      "cell_type": "code",
      "execution_count": null,
      "metadata": {
        "colab": {
          "base_uri": "https://localhost:8080/"
        },
        "id": "u_TVBZc7RMYd",
        "outputId": "c7b40f8a-2b2e-48b1-8b30-4ece31cafd61"
      },
      "outputs": [],
      "source": [
        "#average rented bike count by Holiday or not\n",
        "average_bike_count_holiday = train_data.groupby('Holiday').agg({\n",
        "    'Rented Bike Count': ['mean', 'count']\n",
        "}).reset_index()\n",
        "\n",
        "average_bike_count_holiday.columns = ['Holiday', 'Average Rented Bike Count', 'Number of Instances']\n",
        "\n",
        "print(average_bike_count_holiday)"
      ]
    },
    {
      "cell_type": "code",
      "execution_count": null,
      "metadata": {
        "colab": {
          "base_uri": "https://localhost:8080/",
          "height": 443
        },
        "id": "P6LfwNThd6-W",
        "outputId": "64989b1b-8e62-4f25-fe33-0a93f986b892"
      },
      "outputs": [],
      "source": [
        "# Calculate the average 'Rented Bike Count' per hour\n",
        "average_hourly_rented_bike_count = train_data.groupby('Hour')['Rented Bike Count'].mean()\n",
        "\n",
        "# Plot the results\n",
        "plt.figure(figsize=(10, 6))\n",
        "plt.plot(average_hourly_rented_bike_count.index, average_hourly_rented_bike_count.values, marker='o')\n",
        "plt.title('Average Hourly Rented Bike Count')\n",
        "plt.xlabel('Hour of the Day')\n",
        "plt.ylabel('Average Rented Bike Count')\n",
        "plt.xticks(range(24))\n",
        "plt.grid(True)\n",
        "plt.show()\n"
      ]
    },
    {
      "cell_type": "code",
      "execution_count": null,
      "metadata": {
        "colab": {
          "base_uri": "https://localhost:8080/"
        },
        "id": "RdxQrGx-aHuJ",
        "outputId": "1bbc5d3b-a044-4bd3-df66-4edc4c730754"
      },
      "outputs": [],
      "source": [
        "train_data['Date'] = pd.to_datetime(train_data['Date'])\n",
        "\n",
        "# Extract 'Year' and 'WeekDay'\n",
        "train_data['Year'] = train_data['Date'].dt.year\n",
        "train_data['WeekDay'] = train_data['Date'].dt.day_name()\n",
        "# Convert 'Date' column to datetime in X_test\n",
        "X_test['Date'] = pd.to_datetime(X_test['Date'], format='%d/%m/%Y')\n",
        "X_test['Year'] = X_test['Date'].dt.year\n",
        "X_test['WeekDay'] = X_test['Date'].dt.day_name()\n",
        "\n",
        "#Drop date\n",
        "train_data=train_data.drop(columns=['Date'])\n",
        "X_test=X_test.drop(columns=['Date'])\n",
        "\n",
        "# Map 'WeekDay' to numerical encoding\n",
        "mapping_dictDay = {'Monday': 1, 'Tuesday': 2, 'Wednesday': 3, 'Thursday': 4, 'Friday': 5, 'Saturday': 6, 'Sunday': 7}\n",
        "train_data['WeekDay'] = train_data['WeekDay'].map(mapping_dictDay)\n",
        "X_test['WeekDay'] = X_test['WeekDay'].map(mapping_dictDay)\n"
      ]
    },
    {
      "cell_type": "code",
      "execution_count": null,
      "metadata": {
        "colab": {
          "base_uri": "https://localhost:8080/"
        },
        "id": "2gdLTHx_Z3YG",
        "outputId": "57ea32b0-2786-468b-a08b-b38ed6cb0284"
      },
      "outputs": [],
      "source": [
        "# Group by 'Year' and calculate both average and count of 'Rented Bike Count'\n",
        "average_and_counts_per_year = train_data.groupby('Year')['Rented Bike Count'].agg(['mean', 'count'])\n",
        "\n",
        "print(average_and_counts_per_year)\n"
      ]
    },
    {
      "cell_type": "code",
      "execution_count": null,
      "metadata": {
        "colab": {
          "base_uri": "https://localhost:8080/"
        },
        "id": "4WdBk4F-hYQH",
        "outputId": "84ee98d0-aa44-4e47-af7f-59d5fc9821c6"
      },
      "outputs": [],
      "source": [
        "# Define a function to compute the mean of the middle 50% values\n",
        "def mean_of_middle_50_percent(group):\n",
        "    # Sort the values\n",
        "    sorted_values = group.sort_values()\n",
        "\n",
        "    # Calculate the 25th and 75th percentiles\n",
        "    lower_bound = sorted_values.quantile(0.25)\n",
        "    upper_bound = sorted_values.quantile(0.75)\n",
        "\n",
        "    # Filter the values to get the middle 50%\n",
        "    middle_50_values = sorted_values[(sorted_values >= lower_bound) & (sorted_values <= upper_bound)]\n",
        "\n",
        "    # Compute the mean of the middle 50% values\n",
        "    return middle_50_values.mean()\n",
        "\n",
        "# Group by 'Year' and apply the function\n",
        "mean_middle_50_per_year = train_data.groupby('Year')['Rented Bike Count'].apply(mean_of_middle_50_percent)\n",
        "\n",
        "# Print the results\n",
        "print(mean_middle_50_per_year)"
      ]
    },
    {
      "cell_type": "code",
      "execution_count": null,
      "metadata": {
        "colab": {
          "base_uri": "https://localhost:8080/"
        },
        "id": "-ZizQ5mZaeYL",
        "outputId": "181da377-f50d-4a7d-e3cd-a42fe4cc97d2"
      },
      "outputs": [],
      "source": [
        "# Group by 'WeekDay' and calculate both average and count of 'Rented Bike Count'\n",
        "average_and_counts_by_weekday = train_data.groupby('WeekDay')['Rented Bike Count'].agg(['mean', 'count'])\n",
        "\n",
        "print(average_and_counts_by_weekday)\n"
      ]
    },
    {
      "cell_type": "code",
      "execution_count": null,
      "metadata": {
        "id": "yx0PahX6RyUf"
      },
      "outputs": [],
      "source": [
        "# Label Encode 'Holiday' and 'Functioning Day' columns\n",
        "train_data['Holiday'] = train_data['Holiday'].map({'Holiday': 0, 'No Holiday': 1})\n",
        "train_data['Functioning Day'] = train_data['Functioning Day'].map({'Yes': 1, 'No': 0})\n",
        "\n",
        "X_test['Holiday']=X_test['Holiday'].map({'Holiday': 0, 'No Holiday': 1})\n",
        "X_test['Functioning Day'] = X_test['Functioning Day'].map({'Yes': 1, 'No': 0})\n",
        "\n",
        "# Label Encode Seasons Column\n",
        "train_data['Seasons'] = train_data['Seasons'].map({\n",
        "    'Autumn': 0,\n",
        "    'Spring': 1,\n",
        "    'Summer': 2,\n",
        "    'Winter': 3\n",
        "}\n",
        ")\n",
        "X_test['Seasons'] = X_test['Seasons'].map({\n",
        "    'Autumn': 0,\n",
        "    'Spring': 1,\n",
        "    'Summer': 2,\n",
        "    'Winter': 3\n",
        "}\n",
        ")\n"
      ]
    },
    {
      "cell_type": "code",
      "execution_count": null,
      "metadata": {
        "colab": {
          "base_uri": "https://localhost:8080/",
          "height": 261
        },
        "id": "VHqZWUu2Uelx",
        "outputId": "1d12deb8-451c-4796-ed3b-d369b2251933"
      },
      "outputs": [],
      "source": [
        "train_data.head()"
      ]
    },
    {
      "cell_type": "code",
      "execution_count": null,
      "metadata": {
        "id": "q1DqBZi8W6lc"
      },
      "outputs": [],
      "source": [
        "# Create and train the Random Forest model\n",
        "rf_model = RandomForestRegressor(n_estimators=100,bootstrap=True)\n",
        "rf_model.fit(train_data.drop(columns=['Functioning Day','Rented Bike Count']), train_data['Rented Bike Count'])\n",
        "\n",
        "# Make predictions on the test set\n",
        "y_pred_rf = rf_model.predict(X_test.drop(columns=['Functioning Day']))\n",
        "\n",
        "# Modify predictions to be 0 when 'Functioning Day' is 0\n",
        "functioning_day_column = X_test['Functioning Day']\n",
        "y_pred_rf[functioning_day_column == 0] = 0\n",
        "\n",
        "rf_rmse = mean_squared_error(y_test, y_pred_rf, squared=False)\n",
        "print(f'Random Forest RMSE: {rf_rmse}')\n",
        "\n",
        "rf_r2 = r2_score(y_test, y_pred_rf)\n",
        "print(f'Random Forest R²: {rf_r2}')\n",
        "\n",
        "mae = mean_absolute_error(y_test, y_pred_rf)\n",
        "print(f\"Random Forest Mean Absolute Error: {mae:.2f}\")"
      ]
    },
    {
      "cell_type": "code",
      "execution_count": null,
      "metadata": {
        "colab": {
          "base_uri": "https://localhost:8080/"
        },
        "id": "lz2r6J0ZCjq5",
        "outputId": "476c0428-f9d6-47a8-804a-58a4de615c62"
      },
      "outputs": [],
      "source": [
        "#train data performance\n",
        "\n",
        "y_pred_rf = rf_model.predict(train_data.drop(columns=['Functioning Day','Rented Bike Count']))\n",
        "\n",
        "# Modify predictions to be 0 when 'Functioning Day' is 0\n",
        "functioning_day_column = train_data['Functioning Day']\n",
        "y_pred_rf[functioning_day_column == 0] = 0\n",
        "\n",
        "rf_rmse = mean_squared_error(train_data['Rented Bike Count'], y_pred_rf, squared=False)\n",
        "print(f'Random Forest RMSE: {rf_rmse}')\n",
        "\n",
        "rf_r2 = r2_score(train_data['Rented Bike Count'], y_pred_rf)\n",
        "print(f'Random Forest R²: {rf_r2}')\n",
        "\n",
        "mae = mean_absolute_error(train_data['Rented Bike Count'], y_pred_rf)\n",
        "print(f\"Random Forest Mean Absolute Error: {mae:.2f}\")"
      ]
    },
    {
      "cell_type": "code",
      "execution_count": null,
      "metadata": {
        "id": "M8OJsOyWH6IO"
      },
      "outputs": [],
      "source": []
    }
  ],
  "metadata": {
    "accelerator": "TPU",
    "colab": {
      "gpuType": "V28",
      "provenance": []
    },
    "kernelspec": {
      "display_name": "Python 3",
      "name": "python3"
    },
    "language_info": {
      "name": "python"
    }
  },
  "nbformat": 4,
  "nbformat_minor": 0
}
